{
  "nbformat": 4,
  "nbformat_minor": 0,
  "metadata": {
    "colab": {
      "provenance": [],
      "machine_shape": "hm",
      "authorship_tag": "ABX9TyMKakkr4HQP6mqf7Y3eclwg",
      "include_colab_link": true
    },
    "kernelspec": {
      "name": "python3",
      "display_name": "Python 3"
    },
    "language_info": {
      "name": "python"
    },
    "gpuClass": "standard"
  },
  "cells": [
    {
      "cell_type": "markdown",
      "metadata": {
        "id": "view-in-github",
        "colab_type": "text"
      },
      "source": [
        "<a href=\"https://colab.research.google.com/github/sehab1611251/Discriminative-and-Generative-Classifiers-for-handwritten-digits/blob/main/Discriminative_and_Generative_Classifiers.ipynb\" target=\"_parent\"><img src=\"https://colab.research.google.com/assets/colab-badge.svg\" alt=\"Open In Colab\"/></a>"
      ]
    },
    {
      "cell_type": "code",
      "execution_count": null,
      "metadata": {
        "id": "-9pWMXGmcQRC"
      },
      "outputs": [],
      "source": [
        "# Loading the Dataset\n",
        "from sklearn.datasets import fetch_openml\n",
        "X,y = fetch_openml('mnist_784', version=1, return_X_y=True)\n",
        "y = y.astype(int)\n",
        "X = X/255."
      ]
    },
    {
      "cell_type": "code",
      "source": [
        "print(X.head(3))"
      ],
      "metadata": {
        "colab": {
          "base_uri": "https://localhost:8080/"
        },
        "id": "4zJa6xoFchD-",
        "outputId": "1139ffe8-33e7-444a-c05e-c64ac4898e85"
      },
      "execution_count": null,
      "outputs": [
        {
          "output_type": "stream",
          "name": "stdout",
          "text": [
            "   pixel1  pixel2  pixel3  pixel4  pixel5  pixel6  pixel7  pixel8  pixel9  \\\n",
            "0     0.0     0.0     0.0     0.0     0.0     0.0     0.0     0.0     0.0   \n",
            "1     0.0     0.0     0.0     0.0     0.0     0.0     0.0     0.0     0.0   \n",
            "2     0.0     0.0     0.0     0.0     0.0     0.0     0.0     0.0     0.0   \n",
            "\n",
            "   pixel10  ...  pixel775  pixel776  pixel777  pixel778  pixel779  pixel780  \\\n",
            "0      0.0  ...       0.0       0.0       0.0       0.0       0.0       0.0   \n",
            "1      0.0  ...       0.0       0.0       0.0       0.0       0.0       0.0   \n",
            "2      0.0  ...       0.0       0.0       0.0       0.0       0.0       0.0   \n",
            "\n",
            "   pixel781  pixel782  pixel783  pixel784  \n",
            "0       0.0       0.0       0.0       0.0  \n",
            "1       0.0       0.0       0.0       0.0  \n",
            "2       0.0       0.0       0.0       0.0  \n",
            "\n",
            "[3 rows x 784 columns]\n"
          ]
        }
      ]
    },
    {
      "cell_type": "code",
      "source": [
        "y.head(3)"
      ],
      "metadata": {
        "colab": {
          "base_uri": "https://localhost:8080/"
        },
        "id": "xo2J2Yu6ckEb",
        "outputId": "02f8be65-ed3e-4c46-a21d-90d62e792734"
      },
      "execution_count": null,
      "outputs": [
        {
          "output_type": "execute_result",
          "data": {
            "text/plain": [
              "0    5\n",
              "1    0\n",
              "2    4\n",
              "Name: class, dtype: int64"
            ]
          },
          "metadata": {},
          "execution_count": 3
        }
      ]
    },
    {
      "cell_type": "code",
      "source": [
        "print(X.shape)\n",
        "print(y.shape)"
      ],
      "metadata": {
        "colab": {
          "base_uri": "https://localhost:8080/"
        },
        "id": "gTyUo1Kecnjm",
        "outputId": "6fe389b9-66b7-4c74-ff8c-1c005c1686ed"
      },
      "execution_count": null,
      "outputs": [
        {
          "output_type": "stream",
          "name": "stdout",
          "text": [
            "(70000, 784)\n",
            "(70000,)\n"
          ]
        }
      ]
    },
    {
      "cell_type": "code",
      "source": [
        "import numpy as np\n",
        "import pandas as pd\n",
        "import matplotlib.pyplot as plt"
      ],
      "metadata": {
        "id": "7Gueb6F_crAL"
      },
      "execution_count": null,
      "outputs": []
    },
    {
      "cell_type": "code",
      "source": [
        "plt.figure(figsize=(7,7))\n",
        "index=100\n",
        "aSampleImage = X.iloc[index].to_numpy().reshape(28, 28)\n",
        "plt.imshow(np.reshape(aSampleImage, (28,28)), cmap=plt.cm.gray)\n",
        "print(y[index])"
      ],
      "metadata": {
        "colab": {
          "base_uri": "https://localhost:8080/",
          "height": 446
        },
        "id": "uyOuhmDDcr1B",
        "outputId": "4a78a26f-d993-4f4b-e223-6c0bb7bc1c28"
      },
      "execution_count": null,
      "outputs": [
        {
          "output_type": "stream",
          "name": "stdout",
          "text": [
            "5\n"
          ]
        },
        {
          "output_type": "display_data",
          "data": {
            "text/plain": [
              "<Figure size 504x504 with 1 Axes>"
            ],
            "image/png": "[encoded data removed]"
          },
          "metadata": {
            "needs_background": "light"
          }
        }
      ]
    },
    {
      "cell_type": "code",
      "source": [
        "from sklearn.model_selection import train_test_split\n",
        "from sklearn.model_selection import cross_val_score"
      ],
      "metadata": {
        "id": "-Z8vQDPyfPdu"
      },
      "execution_count": null,
      "outputs": []
    },
    {
      "cell_type": "code",
      "source": [
        "X_data, X_test_data, y_data, y_test_data = train_test_split( X, y, test_size=0.20, random_state=42 ) # splitting 20% data to test the model later"
      ],
      "metadata": {
        "id": "WzqiD_2niwGR"
      },
      "execution_count": null,
      "outputs": []
    },
    {
      "cell_type": "code",
      "source": [
        "X_data.shape"
      ],
      "metadata": {
        "colab": {
          "base_uri": "https://localhost:8080/"
        },
        "id": "T67q87AGUKy5",
        "outputId": "29881856-5613-46d6-bfd1-8e110aad72d9"
      },
      "execution_count": null,
      "outputs": [
        {
          "output_type": "execute_result",
          "data": {
            "text/plain": [
              "(56000, 784)"
            ]
          },
          "metadata": {},
          "execution_count": 5
        }
      ]
    },
    {
      "cell_type": "code",
      "source": [
        "y_data.shape"
      ],
      "metadata": {
        "colab": {
          "base_uri": "https://localhost:8080/"
        },
        "id": "K64Mq1GqUVIU",
        "outputId": "03634b2e-bbf3-4cf7-c87b-a2d408901f7d"
      },
      "execution_count": null,
      "outputs": [
        {
          "output_type": "execute_result",
          "data": {
            "text/plain": [
              "(56000,)"
            ]
          },
          "metadata": {},
          "execution_count": 6
        }
      ]
    },
    {
      "cell_type": "code",
      "source": [
        "# To get the execution time for each cell\n",
        "!pip install ipython-autotime\n",
        "%load_ext autotime"
      ],
      "metadata": {
        "colab": {
          "base_uri": "https://localhost:8080/"
        },
        "id": "2z7PvZ_GlsVr",
        "outputId": "ad9bfd0e-b601-468b-bbfe-02441b6e2567"
      },
      "execution_count": null,
      "outputs": [
        {
          "output_type": "stream",
          "name": "stdout",
          "text": [
            "Looking in indexes: https://pypi.org/simple, https://us-python.pkg.dev/colab-wheels/public/simple/\n",
            "Collecting ipython-autotime\n",
            "  Downloading ipython_autotime-0.3.1-py2.py3-none-any.whl (6.8 kB)\n",
            "Requirement already satisfied: ipython in /usr/local/lib/python3.8/dist-packages (from ipython-autotime) (7.9.0)\n",
            "Requirement already satisfied: pexpect in /usr/local/lib/python3.8/dist-packages (from ipython->ipython-autotime) (4.8.0)\n",
            "Requirement already satisfied: pygments in /usr/local/lib/python3.8/dist-packages (from ipython->ipython-autotime) (2.6.1)\n",
            "Requirement already satisfied: prompt-toolkit<2.1.0,>=2.0.0 in /usr/local/lib/python3.8/dist-packages (from ipython->ipython-autotime) (2.0.10)\n",
            "Requirement already satisfied: decorator in /usr/local/lib/python3.8/dist-packages (from ipython->ipython-autotime) (4.4.2)\n",
            "Requirement already satisfied: traitlets>=4.2 in /usr/local/lib/python3.8/dist-packages (from ipython->ipython-autotime) (5.6.0)\n",
            "Requirement already satisfied: pickleshare in /usr/local/lib/python3.8/dist-packages (from ipython->ipython-autotime) (0.7.5)\n",
            "Requirement already satisfied: backcall in /usr/local/lib/python3.8/dist-packages (from ipython->ipython-autotime) (0.2.0)\n",
            "Requirement already satisfied: setuptools>=18.5 in /usr/local/lib/python3.8/dist-packages (from ipython->ipython-autotime) (57.4.0)\n",
            "Collecting jedi>=0.10\n",
            "  Downloading jedi-0.18.2-py2.py3-none-any.whl (1.6 MB)\n",
            "\u001b[K     |████████████████████████████████| 1.6 MB 5.0 MB/s \n",
            "\u001b[?25hRequirement already satisfied: parso<0.9.0,>=0.8.0 in /usr/local/lib/python3.8/dist-packages (from jedi>=0.10->ipython->ipython-autotime) (0.8.3)\n",
            "Requirement already satisfied: six>=1.9.0 in /usr/local/lib/python3.8/dist-packages (from prompt-toolkit<2.1.0,>=2.0.0->ipython->ipython-autotime) (1.15.0)\n",
            "Requirement already satisfied: wcwidth in /usr/local/lib/python3.8/dist-packages (from prompt-toolkit<2.1.0,>=2.0.0->ipython->ipython-autotime) (0.2.5)\n",
            "Requirement already satisfied: ptyprocess>=0.5 in /usr/local/lib/python3.8/dist-packages (from pexpect->ipython->ipython-autotime) (0.7.0)\n",
            "Installing collected packages: jedi, ipython-autotime\n",
            "Successfully installed ipython-autotime-0.3.1 jedi-0.18.2\n",
            "time: 468 µs (started: 2022-12-16 11:29:26 +00:00)\n"
          ]
        }
      ]
    },
    {
      "cell_type": "code",
      "source": [
        "from sklearn.model_selection import KFold\n",
        "CV = KFold(n_splits=10) # configuring 10 fold cross validation\n",
        "CV"
      ],
      "metadata": {
        "colab": {
          "base_uri": "https://localhost:8080/"
        },
        "id": "lWiwlLialD0v",
        "outputId": "d1b6824d-4716-44fe-e811-7adb6d959366"
      },
      "execution_count": null,
      "outputs": [
        {
          "output_type": "execute_result",
          "data": {
            "text/plain": [
              "KFold(n_splits=10, random_state=None, shuffle=False)"
            ]
          },
          "metadata": {},
          "execution_count": 6
        },
        {
          "output_type": "stream",
          "name": "stdout",
          "text": [
            "time: 5.25 ms (started: 2022-12-14 12:17:15 +00:00)\n"
          ]
        }
      ]
    },
    {
      "cell_type": "code",
      "source": [
        "X_data = X_data.to_numpy() #converting data frame to numpy array\n",
        "y_data =y_data.to_numpy() #converting data frame to numpy array"
      ],
      "metadata": {
        "id": "21dFskcXrO9w",
        "colab": {
          "base_uri": "https://localhost:8080/"
        },
        "outputId": "257f692f-30e7-4ef2-b653-c5ea27cadcea"
      },
      "execution_count": null,
      "outputs": [
        {
          "output_type": "stream",
          "name": "stdout",
          "text": [
            "time: 1.25 ms (started: 2022-12-16 11:29:26 +00:00)\n"
          ]
        }
      ]
    },
    {
      "cell_type": "code",
      "source": [
        "X_test_data=X_test_data.to_numpy() #converting data frame to numpy array\n",
        "y_test_data=y_test_data.to_numpy() #converting data frame to numpy array"
      ],
      "metadata": {
        "colab": {
          "base_uri": "https://localhost:8080/"
        },
        "id": "-oAnKhNKV49H",
        "outputId": "a7e0273a-2e3b-47c5-ffdd-f8d4ad0ecf88"
      },
      "execution_count": null,
      "outputs": [
        {
          "output_type": "stream",
          "name": "stdout",
          "text": [
            "time: 882 µs (started: 2022-12-16 11:29:26 +00:00)\n"
          ]
        }
      ]
    },
    {
      "cell_type": "markdown",
      "source": [
        "**1. SVM  using linear, polynomial of degree 2, and RBF kernels**"
      ],
      "metadata": {
        "id": "7PKIB0l5i-dC"
      }
    },
    {
      "cell_type": "code",
      "source": [
        "from sklearn import svm"
      ],
      "metadata": {
        "id": "6fjS3zpnjChA",
        "colab": {
          "base_uri": "https://localhost:8080/"
        },
        "outputId": "96555193-0ebb-4209-b2ad-18ef637f0f6f"
      },
      "execution_count": null,
      "outputs": [
        {
          "output_type": "stream",
          "name": "stdout",
          "text": [
            "time: 158 ms (started: 2022-12-16 11:29:26 +00:00)\n"
          ]
        }
      ]
    },
    {
      "cell_type": "markdown",
      "source": [
        "1.1 SVM  implementation using Linear Kernel"
      ],
      "metadata": {
        "id": "0UppcdJKW5tU"
      }
    },
    {
      "cell_type": "code",
      "source": [
        "C_values=[1,2,3,4,5,6,7,8,9,10] # selecting a parameter list"
      ],
      "metadata": {
        "colab": {
          "base_uri": "https://localhost:8080/"
        },
        "id": "eLshjOLjkLcp",
        "outputId": "82dfcc38-f088-4963-9e52-66d453995f90"
      },
      "execution_count": null,
      "outputs": [
        {
          "output_type": "stream",
          "name": "stdout",
          "text": [
            "time: 572 µs (started: 2022-12-13 11:54:41 +00:00)\n"
          ]
        }
      ]
    },
    {
      "cell_type": "code",
      "source": [
        "i=0\n",
        "for train_index, test_index in CV.split(X_data):  #applying 10 fold cross validation\n",
        "    LinearModel = svm.SVC(kernel='linear',C=C_values[i],random_state = 42) #Linear SVM Kernel\n",
        "    LinearModel.fit(X_data[train_index], y_data[train_index])\n",
        "    print(\"For C=\", C_values[i] , \"Model Accuracy:\", (LinearModel.score(X_data[test_index], y_data[test_index]))*100 , \"%\")\n",
        "    i+=1"
      ],
      "metadata": {
        "colab": {
          "base_uri": "https://localhost:8080/"
        },
        "id": "mVuNuVcblbSH",
        "outputId": "7b39f973-46da-4ac2-d14f-5d9c0b9541b3"
      },
      "execution_count": null,
      "outputs": [
        {
          "output_type": "stream",
          "name": "stdout",
          "text": [
            "For C= 1 Model Accuracy: 93.44642857142857 %\n",
            "For C= 2 Model Accuracy: 92.94642857142857 %\n",
            "For C= 3 Model Accuracy: 92.60714285714286 %\n",
            "For C= 4 Model Accuracy: 92.64285714285714 %\n",
            "For C= 5 Model Accuracy: 92.44642857142857 %\n",
            "For C= 6 Model Accuracy: 92.92857142857143 %\n",
            "For C= 7 Model Accuracy: 92.75 %\n",
            "For C= 8 Model Accuracy: 92.92857142857143 %\n",
            "For C= 9 Model Accuracy: 92.64285714285714 %\n",
            "For C= 10 Model Accuracy: 92.85714285714286 %\n",
            "time: 43min 8s (started: 2022-12-13 11:55:16 +00:00)\n"
          ]
        }
      ]
    },
    {
      "cell_type": "code",
      "source": [
        "print(\"Model Score:\", LinearModel.score(X_test_data, y_test_data) * 100, \"%\") # Evaluating model with completely unseen data\n",
        "print(\"\\n\")"
      ],
      "metadata": {
        "colab": {
          "base_uri": "https://localhost:8080/"
        },
        "id": "iiRgiSDEkFG6",
        "outputId": "e686fcd4-f5e4-4288-f376-0ce8b949ebe5"
      },
      "execution_count": null,
      "outputs": [
        {
          "output_type": "stream",
          "name": "stdout",
          "text": [
            "Model Score: 92.30000000000001 %\n",
            "\n",
            "\n",
            "time: 1min 3s (started: 2022-12-13 12:52:02 +00:00)\n"
          ]
        }
      ]
    },
    {
      "cell_type": "markdown",
      "source": [
        "1.2 SVM  implementation using Polynomial Kernel of degree=2"
      ],
      "metadata": {
        "id": "W3yQ8xyJXKSh"
      }
    },
    {
      "cell_type": "code",
      "source": [
        "from sklearn.model_selection import KFold\n",
        "CV = KFold(n_splits=10) # configuring 10 fold cross validation\n",
        "CV"
      ],
      "metadata": {
        "id": "-scGyIb37L2t"
      },
      "execution_count": null,
      "outputs": []
    },
    {
      "cell_type": "code",
      "source": [
        "for train_index, test_index in CV.split(X_data):  #applying 10 fold cross validation\n",
        "    PolynomialModel = svm.SVC(kernel='poly', degree=2) #Polynomial kernel with degree 2\n",
        "    PolynomialModel.fit(X_data[train_index], y_data[train_index])\n",
        "    print(\"Model Accuracy:\", (PolynomialModel.score(X_data[test_index], y_data[test_index]))*100 , \"%\")"
      ],
      "metadata": {
        "id": "160KHeX_nOya",
        "colab": {
          "base_uri": "https://localhost:8080/"
        },
        "outputId": "631d1e40-8dc4-4f50-d352-f2fb056d8d57"
      },
      "execution_count": null,
      "outputs": [
        {
          "output_type": "stream",
          "name": "stdout",
          "text": [
            "Model Accuracy: 97.5 %\n",
            "Model Accuracy: 97.53571428571428 %\n",
            "Model Accuracy: 97.55357142857143 %\n",
            "Model Accuracy: 97.66071428571429 %\n",
            "Model Accuracy: 97.48214285714286 %\n",
            "Model Accuracy: 97.67857142857143 %\n",
            "Model Accuracy: 97.58928571428571 %\n",
            "Model Accuracy: 97.53571428571428 %\n",
            "Model Accuracy: 97.23214285714286 %\n",
            "Model Accuracy: 97.53571428571428 %\n",
            "time: 28min 22s (started: 2022-12-13 19:17:25 +00:00)\n"
          ]
        }
      ]
    },
    {
      "cell_type": "code",
      "source": [
        "print(\"Model Accuracy:\", PolynomialModel.score(X_test_data, y_test_data) * 100, \"%\") # Evaluating model with completely unseen data"
      ],
      "metadata": {
        "colab": {
          "base_uri": "https://localhost:8080/"
        },
        "id": "F16XA35ppCYk",
        "outputId": "c78a04db-6625-413e-d2b9-149f357292b3"
      },
      "execution_count": null,
      "outputs": [
        {
          "output_type": "stream",
          "name": "stdout",
          "text": [
            "Model Accuracy: 97.37142857142858 %\n",
            "time: 1min 2s (started: 2022-12-13 19:52:19 +00:00)\n"
          ]
        }
      ]
    },
    {
      "cell_type": "markdown",
      "source": [
        "1.3 SVM implementation using RBF Kernel"
      ],
      "metadata": {
        "id": "fpMRlcd2YFHl"
      }
    },
    {
      "cell_type": "code",
      "source": [
        "from sklearn.model_selection import KFold\n",
        "CV = KFold(n_splits=5) # configuring 5 fold cross validation since RBF kernel takes a long time in 10 fold\n",
        "CV"
      ],
      "metadata": {
        "id": "lgkNhYXpwJi4",
        "colab": {
          "base_uri": "https://localhost:8080/"
        },
        "outputId": "f058e49e-eb7f-40da-b59b-310467d27adf"
      },
      "execution_count": null,
      "outputs": [
        {
          "output_type": "execute_result",
          "data": {
            "text/plain": [
              "KFold(n_splits=5, random_state=None, shuffle=False)"
            ]
          },
          "metadata": {},
          "execution_count": 12
        },
        {
          "output_type": "stream",
          "name": "stdout",
          "text": [
            "time: 3.97 ms (started: 2022-12-16 11:30:38 +00:00)\n"
          ]
        }
      ]
    },
    {
      "cell_type": "code",
      "source": [
        "C_values=[1,3,5,7,9] # selecting a parameter list of C values\n",
        "gamma_Values=[.2, .4, .5, .7, .9] # selecting a parameter list of gamma values"
      ],
      "metadata": {
        "id": "RvrvtCFeum15",
        "colab": {
          "base_uri": "https://localhost:8080/"
        },
        "outputId": "ec63b79c-a408-4461-c983-df0ca4345fb9"
      },
      "execution_count": null,
      "outputs": [
        {
          "output_type": "stream",
          "name": "stdout",
          "text": [
            "time: 549 µs (started: 2022-12-14 07:18:09 +00:00)\n"
          ]
        }
      ]
    },
    {
      "cell_type": "code",
      "source": [
        "i=0\n",
        "for train_index, test_index in CV.split(X_data):  #applying 5 fold cross validation\n",
        "    RBFmodel = svm.SVC(kernel='rbf',C=C_values[i],gamma=gamma_Values[i]) # RBF Kernel\n",
        "    RBFmodel.fit(X_data[train_index], y_data[train_index])\n",
        "    print(\"For C=\", C_values[i] , \"and gamma=\", gamma_Values[i], \"Model Accuracy:\", (RBFmodel.score(X_data[test_index], y_data[test_index]))*100 , \"%\")\n",
        "    i+=1"
      ],
      "metadata": {
        "id": "hO0gwISculah",
        "colab": {
          "base_uri": "https://localhost:8080/"
        },
        "outputId": "50d31c76-d7af-403e-8546-1a0139df4acb"
      },
      "execution_count": null,
      "outputs": [
        {
          "output_type": "stream",
          "name": "stdout",
          "text": [
            "For C= 1 and gamma= 0.2 Model Accuracy: 66.51785714285714 %\n",
            "For C= 3 and gamma= 0.4 Model Accuracy: 29.598214285714285 %\n",
            "For C= 5 and gamma= 0.5 Model Accuracy: 25.34821428571429 %\n",
            "For C= 7 and gamma= 0.7 Model Accuracy: 18.3125 %\n",
            "For C= 9 and gamma= 0.9 Model Accuracy: 17.544642857142854 %\n",
            "time: 8h 8min (started: 2022-12-13 21:29:50 +00:00)\n"
          ]
        }
      ]
    },
    {
      "cell_type": "code",
      "source": [
        "print(\"Model Score:\", RBFmodel.score(X_test_data, y_test_data) * 100 ,\"%\") # Evaluating model with completely unseen data"
      ],
      "metadata": {
        "colab": {
          "base_uri": "https://localhost:8080/"
        },
        "id": "cyq3-TGnqycG",
        "outputId": "74e1b752-99b9-4949-f7c7-b74cf72047bb"
      },
      "execution_count": null,
      "outputs": [
        {
          "output_type": "stream",
          "name": "stdout",
          "text": [
            "Model Score: 18.3 %\n",
            "time: 10min 21s (started: 2022-12-14 06:37:48 +00:00)\n"
          ]
        }
      ]
    },
    {
      "cell_type": "markdown",
      "source": [
        "Since a small increase in Gamma and C values affected the result sharply, I have trained the model again with the different sets of parameters where C and Gamma increase very slowly."
      ],
      "metadata": {
        "id": "dvosfZQEzLhY"
      }
    },
    {
      "cell_type": "code",
      "source": [
        "C_values=[1,2,3,4,5] # selecting a parameter list of C values\n",
        "gamma_Values=[.05, .06, .07, .08, .09] # selecting a parameter list of gamma values"
      ],
      "metadata": {
        "colab": {
          "base_uri": "https://localhost:8080/"
        },
        "id": "HWoQSUoJsial",
        "outputId": "7534dca3-6419-4aa0-a5b7-4ae4ef588b12"
      },
      "execution_count": null,
      "outputs": [
        {
          "output_type": "stream",
          "name": "stdout",
          "text": [
            "time: 743 µs (started: 2022-12-16 11:30:24 +00:00)\n"
          ]
        }
      ]
    },
    {
      "cell_type": "code",
      "source": [
        "i=0\n",
        "for train_index, test_index in CV.split(X_data):  #applying 5 fold cross validation\n",
        "    RBFmodel = svm.SVC(kernel='rbf',C=C_values[i],gamma=gamma_Values[i]) # RBF Kernel\n",
        "    RBFmodel.fit(X_data[train_index], y_data[train_index])\n",
        "    print(\"For C=\", C_values[i] , \"and gamma=\", gamma_Values[i], \"Model Accuracy:\", (RBFmodel.score(X_data[test_index], y_data[test_index]))*100 , \"%\")\n",
        "    i+=1"
      ],
      "metadata": {
        "colab": {
          "base_uri": "https://localhost:8080/"
        },
        "id": "ut_GEeMFska8",
        "outputId": "6e3a55c3-4ef1-4311-8bdd-c577997f65a8"
      },
      "execution_count": null,
      "outputs": [
        {
          "output_type": "stream",
          "name": "stdout",
          "text": [
            "For C= 1 and gamma= 0.05 Model Accuracy: 98.14285714285714 %\n",
            "For C= 2 and gamma= 0.06 Model Accuracy: 98.07142857142857 %\n",
            "For C= 3 and gamma= 0.07 Model Accuracy: 97.85714285714285 %\n",
            "For C= 4 and gamma= 0.08 Model Accuracy: 97.0 %\n",
            "For C= 5 and gamma= 0.09 Model Accuracy: 96.08928571428571 %\n",
            "time: 2h 2min 26s (started: 2022-12-16 11:30:42 +00:00)\n"
          ]
        }
      ]
    },
    {
      "cell_type": "code",
      "source": [
        "print(\"Model Score:\", RBFmodel.score(X_test_data, y_test_data) * 100 ,\"%\") # Evaluating model with completely unseen data"
      ],
      "metadata": {
        "colab": {
          "base_uri": "https://localhost:8080/"
        },
        "id": "q9mc0-_hsnTX",
        "outputId": "f2786c33-f085-45a1-fbd7-deb0b9ffbeff"
      },
      "execution_count": null,
      "outputs": [
        {
          "output_type": "stream",
          "name": "stdout",
          "text": [
            "Model Score: 96.2357142857143 %\n",
            "time: 5min 43s (started: 2022-12-16 14:20:28 +00:00)\n"
          ]
        }
      ]
    },
    {
      "cell_type": "markdown",
      "source": [
        "**2. Random Forests**"
      ],
      "metadata": {
        "id": "zKKZQazCralG"
      }
    },
    {
      "cell_type": "code",
      "source": [
        "CV = KFold(n_splits=10) # configuring 10 fold cross validation\n",
        "CV"
      ],
      "metadata": {
        "id": "QutIrQeywqgg",
        "colab": {
          "base_uri": "https://localhost:8080/"
        },
        "outputId": "a7a727fb-92df-440a-ee9b-1c3bd454c4c3"
      },
      "execution_count": null,
      "outputs": [
        {
          "output_type": "execute_result",
          "data": {
            "text/plain": [
              "KFold(n_splits=10, random_state=None, shuffle=False)"
            ]
          },
          "metadata": {},
          "execution_count": 10
        },
        {
          "output_type": "stream",
          "name": "stdout",
          "text": [
            "time: 4.99 ms (started: 2022-12-14 12:17:15 +00:00)\n"
          ]
        }
      ]
    },
    {
      "cell_type": "code",
      "source": [
        "from sklearn.ensemble import RandomForestClassifier\n",
        "RandomForestModel = RandomForestClassifier()"
      ],
      "metadata": {
        "id": "GopFE890rgO0",
        "colab": {
          "base_uri": "https://localhost:8080/"
        },
        "outputId": "35b57566-a838-46f4-fd28-d72558e03380"
      },
      "execution_count": null,
      "outputs": [
        {
          "output_type": "stream",
          "name": "stdout",
          "text": [
            "time: 221 ms (started: 2022-12-14 12:17:15 +00:00)\n"
          ]
        }
      ]
    },
    {
      "cell_type": "code",
      "source": [
        "for train_index, test_index in CV.split(X_data):  #applying 10 fold cross validation\n",
        "    RandomForestModel = RandomForestClassifier()\n",
        "    RandomForestModel.fit(X_data[train_index], y_data[train_index])\n",
        "    print(\"Model Accuracy:\", (RandomForestModel.score(X_data[test_index], y_data[test_index]))*100 , \"%\")"
      ],
      "metadata": {
        "id": "EuTt19UawzuD",
        "colab": {
          "base_uri": "https://localhost:8080/"
        },
        "outputId": "cc619f85-c5f4-4e93-93c9-751d1ad2ad90"
      },
      "execution_count": null,
      "outputs": [
        {
          "output_type": "stream",
          "name": "stdout",
          "text": [
            "Model Accuracy: 96.44642857142857 %\n",
            "Model Accuracy: 97.14285714285714 %\n",
            "Model Accuracy: 96.625 %\n",
            "Model Accuracy: 96.89285714285715 %\n",
            "Model Accuracy: 96.98214285714286 %\n",
            "Model Accuracy: 97.17857142857143 %\n",
            "Model Accuracy: 96.83928571428572 %\n",
            "Model Accuracy: 96.89285714285715 %\n",
            "Model Accuracy: 96.33928571428572 %\n",
            "Model Accuracy: 96.89285714285715 %\n",
            "time: 6min 32s (started: 2022-12-14 12:17:21 +00:00)\n"
          ]
        }
      ]
    },
    {
      "cell_type": "code",
      "source": [
        "print(\"Model Score:\",RandomForestModel.score(X_test_data, y_test_data) * 100 ,\"%\") # Evaluating model with completely unseen data"
      ],
      "metadata": {
        "colab": {
          "base_uri": "https://localhost:8080/"
        },
        "id": "5dPoX__RsRse",
        "outputId": "1b9fe7d7-a0d2-4bd6-cf71-c31eacfadc50"
      },
      "execution_count": null,
      "outputs": [
        {
          "output_type": "stream",
          "name": "stdout",
          "text": [
            "Model Score: 96.68571428571428 %\n",
            "time: 703 ms (started: 2022-12-14 12:24:31 +00:00)\n"
          ]
        }
      ]
    },
    {
      "cell_type": "markdown",
      "source": [
        "**3. Naive Bayes** "
      ],
      "metadata": {
        "id": "RdFe1UKzwQWR"
      }
    },
    {
      "cell_type": "code",
      "source": [
        "import numpy as np\n",
        "from scipy.stats import beta"
      ],
      "metadata": {
        "id": "XH0F6tvXwPeC",
        "colab": {
          "base_uri": "https://localhost:8080/"
        },
        "outputId": "cf56befe-46ed-42e4-c137-348f32ed5c67"
      },
      "execution_count": null,
      "outputs": [
        {
          "output_type": "stream",
          "name": "stdout",
          "text": [
            "time: 732 µs (started: 2022-12-14 12:24:56 +00:00)\n"
          ]
        }
      ]
    },
    {
      "cell_type": "code",
      "source": [
        "import warnings\n",
        "warnings.filterwarnings('ignore')"
      ],
      "metadata": {
        "id": "vx8kpQGn2ubr",
        "colab": {
          "base_uri": "https://localhost:8080/"
        },
        "outputId": "7851bede-7a45-4ec2-a14d-fcc8810d53a9"
      },
      "execution_count": null,
      "outputs": [
        {
          "output_type": "stream",
          "name": "stdout",
          "text": [
            "time: 708 µs (started: 2022-12-14 12:24:58 +00:00)\n"
          ]
        }
      ]
    },
    {
      "cell_type": "code",
      "source": [
        "Alpha=0.8\n",
        "Beta=0.2\n",
        "\n",
        "class Custom_NaiveBayes:\n",
        "\n",
        "    def fit(self, X, y):\n",
        "        n_samples, n_features = X.shape #here storing number of samples and features of X with shape (56000, 784)\n",
        "        self._classes = np.unique(y) #getting number of unique classes\n",
        "        n_classes = len(self._classes) #total number of different classes\n",
        "\n",
        "        # calculate mean, var, and prior for each class\n",
        "        self._mean = np.zeros((n_classes, n_features), dtype=np.float64)\n",
        "        self._var = np.zeros((n_classes, n_features), dtype=np.float64)\n",
        "        self._priors = np.zeros(n_classes, dtype=np.float64)\n",
        "\n",
        "        for idx, c in enumerate(self._classes):\n",
        "            X_c = X[y == c]\n",
        "            self._mean[idx, :] = X_c.mean(axis=0)\n",
        "            self._var[idx, :] = X_c.var(axis=0)\n",
        "            self._priors[idx] = X_c.shape[0] / float(n_samples)\n",
        "            \n",
        "    def predict(self, X):\n",
        "        y_pred = [self.Prediction(x) for x in X]\n",
        "        return np.array(y_pred)\n",
        "\n",
        "    def Prediction(self, x):\n",
        "        posteriors = []\n",
        "        for idx, c in enumerate(self._classes): # calculate posterior probability for each class\n",
        "            prior = np.log(self._priors[idx])\n",
        "            posterior = np.sum(np.log(self.PDF(idx, x)))\n",
        "            posterior = posterior + prior\n",
        "            posteriors.append(posterior)\n",
        "        return self._classes[np.argmax(posteriors)] # return class with the highest posterior probability\n",
        "\n",
        "    def PDF(self, class_idx, x): # Probability Density Function for Beta Distribution\n",
        "        numerator=(x**(Alpha-1)) * ((1-x)**(Beta-1))\n",
        "        B = beta.pdf(x, Alpha, Beta) \n",
        "        return numerator / B\n",
        "\n",
        "    def Accuracy(self, y_true, y_pred):\n",
        "        accuracy = np.sum(y_true == y_pred) / len(y_true)\n",
        "        return accuracy\n"
      ],
      "metadata": {
        "id": "4pIUKUY421ff"
      },
      "execution_count": null,
      "outputs": []
    },
    {
      "cell_type": "code",
      "source": [
        "NaiveModel = Custom_NaiveBayes()"
      ],
      "metadata": {
        "id": "KllWW22L24kF"
      },
      "execution_count": null,
      "outputs": []
    },
    {
      "cell_type": "code",
      "source": [
        "from sklearn.model_selection import KFold\n",
        "kf = KFold(n_splits=10)\n",
        "kf"
      ],
      "metadata": {
        "id": "3XKuOY6o29EX",
        "colab": {
          "base_uri": "https://localhost:8080/"
        },
        "outputId": "d0600e35-6442-4368-fa02-1b5f9db0a57a"
      },
      "execution_count": null,
      "outputs": [
        {
          "output_type": "execute_result",
          "data": {
            "text/plain": [
              "KFold(n_splits=10, random_state=None, shuffle=False)"
            ]
          },
          "metadata": {},
          "execution_count": 31
        },
        {
          "output_type": "stream",
          "name": "stdout",
          "text": [
            "time: 6.11 ms (started: 2022-12-14 12:33:05 +00:00)\n"
          ]
        }
      ]
    },
    {
      "cell_type": "code",
      "source": [
        "for train_index, test_index in kf.split(X_data):           #applying 10 fold cross validation\n",
        "    NaiveModel.fit(X_data[train_index], y_data[train_index])\n",
        "    prediction=NaiveModel.predict(X_data[ test_index])\n",
        "    print(\"Model Accuracy:\", NaiveModel.Accuracy(y_data[test_index], prediction) * 1000, \"%\")"
      ],
      "metadata": {
        "id": "uXkbSSUp3A-Y",
        "colab": {
          "base_uri": "https://localhost:8080/"
        },
        "outputId": "3ab9c16e-627c-4fc6-f858-3c3f1332f547"
      },
      "execution_count": null,
      "outputs": [
        {
          "output_type": "stream",
          "name": "stdout",
          "text": [
            "Model Accuracy: 105.17857142857143 %\n",
            "Model Accuracy: 101.60714285714286 %\n",
            "Model Accuracy: 96.07142857142857 %\n",
            "Model Accuracy: 100.0 %\n",
            "Model Accuracy: 97.85714285714285 %\n",
            "Model Accuracy: 103.03571428571429 %\n",
            "Model Accuracy: 97.14285714285714 %\n",
            "Model Accuracy: 96.07142857142857 %\n",
            "Model Accuracy: 97.67857142857143 %\n",
            "Model Accuracy: 98.21428571428571 %\n",
            "time: 2min 48s (started: 2022-12-14 12:33:17 +00:00)\n"
          ]
        }
      ]
    },
    {
      "cell_type": "code",
      "source": [
        "prediction=NaiveModel.predict(X_test_data) # Evaluating model with completely unseen data\n",
        "print(\"Model Score:\", NaiveModel.Accuracy(y_test_data,prediction) * 1000, \"%\")"
      ],
      "metadata": {
        "id": "ohFerXZd5l8S",
        "colab": {
          "base_uri": "https://localhost:8080/"
        },
        "outputId": "bcca0a49-1f2f-45bb-9fea-4be2a4d8cc75"
      },
      "execution_count": null,
      "outputs": [
        {
          "output_type": "stream",
          "name": "stdout",
          "text": [
            "Model Score: 95.92857142857143 %\n",
            "time: 43.2 s (started: 2022-12-14 12:41:35 +00:00)\n"
          ]
        }
      ]
    },
    {
      "cell_type": "markdown",
      "source": [
        "**4. K-NN**"
      ],
      "metadata": {
        "id": "eMchUfWGrRxR"
      }
    },
    {
      "cell_type": "code",
      "source": [
        "from sklearn.model_selection import KFold\n",
        "CV = KFold(n_splits=10)\n",
        "CV"
      ],
      "metadata": {
        "colab": {
          "base_uri": "https://localhost:8080/"
        },
        "id": "RjPwI-iu5uG4",
        "outputId": "4f2d51f1-6cb3-4f90-e6ea-2ca70ddba0ee"
      },
      "execution_count": null,
      "outputs": [
        {
          "output_type": "execute_result",
          "data": {
            "text/plain": [
              "KFold(n_splits=10, random_state=None, shuffle=False)"
            ]
          },
          "metadata": {},
          "execution_count": 39
        },
        {
          "output_type": "stream",
          "name": "stdout",
          "text": [
            "time: 5.74 ms (started: 2022-12-14 14:28:26 +00:00)\n"
          ]
        }
      ]
    },
    {
      "cell_type": "code",
      "source": [
        "from collections import Counter\n",
        "import numpy as np\n",
        "\n",
        "def euclidean_distance(x1, x2):\n",
        "    return np.sqrt(np.sum((x1 - x2) ** 2))\n",
        "\n",
        "class Custom_KNN:\n",
        "    def __init__(self, k=3):\n",
        "        self.k = k\n",
        "\n",
        "    def fit(self, X, y):\n",
        "        self.X_train = X\n",
        "        self.y_train = y\n",
        "\n",
        "    def Predict(self, X):\n",
        "        y_pred = [self.Prediction(x) for x in X]\n",
        "        return np.array(y_pred)\n",
        "\n",
        "    def Prediction(self, x):\n",
        "        distances = [euclidean_distance(x, x_train) for x_train in self.X_train]  # Distance between x and all other points\n",
        "        k_idx = np.argsort(distances)[: self.k]  # Sort by Distance and return indexes of the first k neighbors\n",
        "        k_neighbor_labels = [self.y_train[i] for i in k_idx] # Get labels(y) of the k nearest neighbor training samples\n",
        "        most_common = Counter(k_neighbor_labels).most_common(1) # Get the most common(majority class) class label\n",
        "        return most_common[0][0]\n",
        "\n",
        "    def Accuracy(self, y_true, y_pred):\n",
        "        accuracy = np.sum(y_true == y_pred) / len(y_true)\n",
        "        return accuracy"
      ],
      "metadata": {
        "colab": {
          "base_uri": "https://localhost:8080/"
        },
        "id": "2_DeRVJ255aV",
        "outputId": "ffa4d732-e4ea-40a8-be13-0503ffc57df0"
      },
      "execution_count": null,
      "outputs": [
        {
          "output_type": "stream",
          "name": "stdout",
          "text": [
            "time: 11 ms (started: 2022-12-14 14:28:32 +00:00)\n"
          ]
        }
      ]
    },
    {
      "cell_type": "code",
      "source": [
        "K_values=[2,3,4,5,6,7,8,9,10,11]"
      ],
      "metadata": {
        "colab": {
          "base_uri": "https://localhost:8080/"
        },
        "id": "MK9GCUX76Ddk",
        "outputId": "45687db4-d0df-4b59-ca4e-24936b8dbf89"
      },
      "execution_count": null,
      "outputs": [
        {
          "output_type": "stream",
          "name": "stdout",
          "text": [
            "time: 814 µs (started: 2022-12-14 14:28:39 +00:00)\n"
          ]
        }
      ]
    },
    {
      "cell_type": "code",
      "source": [
        "i=0\n",
        "for train_index, test_index in CV.split(X_data):  #applying 10 fold cross validation\n",
        "    KNN_model = Custom_KNN(k=K_values[i])  # Setting different K values\n",
        "    KNN_model.fit(X_data[train_index], y_data[train_index])\n",
        "    prediction=KNN_model.Predict(X_data[ test_index])\n",
        "    print(\"For K=\",K_values[i],\"Model Accuracy:\", KNN_model.Accuracy(y_data[test_index], prediction) * 100, \"%\")\n",
        "    i+=1"
      ],
      "metadata": {
        "colab": {
          "base_uri": "https://localhost:8080/"
        },
        "id": "IqHFiODJ6N7E",
        "outputId": "93b639e5-c82f-4938-ae53-96786a30ad84"
      },
      "execution_count": null,
      "outputs": [
        {
          "output_type": "stream",
          "name": "stdout",
          "text": [
            "For K= 2 Model Accuracy: 97.23214285714286 %\n",
            "For K= 3 Model Accuracy: 97.17857142857143 %\n",
            "For K= 4 Model Accuracy: 97.21428571428572 %\n",
            "For K= 5 Model Accuracy: 97.39285714285715 %\n",
            "For K= 6 Model Accuracy: 97.14285714285714 %\n",
            "For K= 7 Model Accuracy: 97.32142857142857 %\n",
            "For K= 8 Model Accuracy: 97.25 %\n",
            "For K= 9 Model Accuracy: 96.66071428571429 %\n",
            "For K= 10 Model Accuracy: 96.55357142857143 %\n",
            "For K= 11 Model Accuracy: 96.98214285714286 %\n",
            "time: 9h 22min 59s (started: 2022-12-14 14:28:49 +00:00)\n"
          ]
        }
      ]
    },
    {
      "cell_type": "code",
      "source": [
        "prediction=KNN_model.Predict(X_test_data) # Evaluating model with completely unseen data\n",
        "print(\"Model Score:\", KNN_model.Accuracy(y_test_data,prediction) * 100, \"%\")"
      ],
      "metadata": {
        "id": "cu-ATO1da6-M",
        "colab": {
          "base_uri": "https://localhost:8080/"
        },
        "outputId": "2c42c7cf-e0fe-4e0a-d4a8-a0c3a36bf787"
      },
      "execution_count": null,
      "outputs": [
        {
          "output_type": "stream",
          "name": "stdout",
          "text": [
            "Model Score: 96.6 %\n",
            "time: 2h 23min 53s (started: 2022-12-14 23:51:50 +00:00)\n"
          ]
        }
      ]
    }
  ]
}
